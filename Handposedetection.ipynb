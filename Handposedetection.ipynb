{
 "cells": [
  {
   "cell_type": "code",
   "execution_count": 1,
   "metadata": {
    "scrolled": false
   },
   "outputs": [
    {
     "name": "stdout",
     "output_type": "stream",
     "text": [
      "Requirement already satisfied: mediapipe in c:\\users\\saniy\\appdata\\local\\programs\\python\\python38\\lib\\site-packages (0.8.4)\n",
      "Requirement already satisfied: opencv-python in c:\\users\\saniy\\appdata\\local\\programs\\python\\python38\\lib\\site-packages (4.5.1.48)"
     ]
    },
    {
     "name": "stderr",
     "output_type": "stream",
     "text": [
      "WARNING: You are using pip version 20.2.3; however, version 21.1.1 is available.\n",
      "You should consider upgrading via the 'c:\\users\\saniy\\appdata\\local\\programs\\python\\python38\\python.exe -m pip install --upgrade pip' command.\n"
     ]
    },
    {
     "name": "stdout",
     "output_type": "stream",
     "text": [
      "\n",
      "Requirement already satisfied: opencv-contrib-python in c:\\users\\saniy\\appdata\\local\\programs\\python\\python38\\lib\\site-packages (from mediapipe) (4.5.1.48)\n",
      "Requirement already satisfied: absl-py in c:\\users\\saniy\\appdata\\local\\programs\\python\\python38\\lib\\site-packages (from mediapipe) (0.12.0)\n",
      "Requirement already satisfied: protobuf>=3.11.4 in c:\\users\\saniy\\appdata\\local\\programs\\python\\python38\\lib\\site-packages (from mediapipe) (3.15.8)\n",
      "Requirement already satisfied: six in c:\\users\\saniy\\appdata\\local\\programs\\python\\python38\\lib\\site-packages (from mediapipe) (1.15.0)\n",
      "Requirement already satisfied: numpy in c:\\users\\saniy\\appdata\\local\\programs\\python\\python38\\lib\\site-packages (from mediapipe) (1.19.5)\n",
      "Requirement already satisfied: wheel in c:\\users\\saniy\\appdata\\local\\programs\\python\\python38\\lib\\site-packages (from mediapipe) (0.36.2)\n",
      "Requirement already satisfied: attrs>=19.1.0 in c:\\users\\saniy\\appdata\\local\\programs\\python\\python38\\lib\\site-packages (from mediapipe) (21.1.0)\n"
     ]
    }
   ],
   "source": [
    "!pip install mediapipe opencv-python"
   ]
  },
  {
   "cell_type": "code",
   "execution_count": 1,
   "metadata": {},
   "outputs": [
    {
     "name": "stdout",
     "output_type": "stream",
     "text": [
      "Requirement already up-to-date: numpy in c:\\users\\saniy\\appdata\\local\\programs\\python\\python38\\lib\\site-packages (1.20.3)\n"
     ]
    },
    {
     "name": "stderr",
     "output_type": "stream",
     "text": [
      "WARNING: You are using pip version 20.2.3; however, version 21.1.1 is available.\n",
      "You should consider upgrading via the 'c:\\users\\saniy\\appdata\\local\\programs\\python\\python38\\python.exe -m pip install --upgrade pip' command.\n"
     ]
    }
   ],
   "source": [
    "!pip install -U numpy"
   ]
  },
  {
   "cell_type": "code",
   "execution_count": 3,
   "metadata": {},
   "outputs": [],
   "source": [
    "import mediapipe\n",
    "import cv2 \n",
    "import numpy as np\n",
    "import uuid\n",
    "import os"
   ]
  },
  {
   "cell_type": "code",
   "execution_count": 4,
   "metadata": {},
   "outputs": [],
   "source": [
    "drawingModule = mediapipe.solutions.drawing_utils\n",
    "handsModule = mediapipe.solutions.hands"
   ]
  },
  {
   "cell_type": "code",
   "execution_count": 9,
   "metadata": {
    "scrolled": true
   },
   "outputs": [],
   "source": [
    "#cap = cv2.VideoCapture(0)\n",
    "\n",
    "# Check if the webcam is opened correctly\n",
    "#if not cap.isOpened():\n",
    "    #raise IOError(\"Cannot open webcam\")\n",
    "\n",
    "with handsModule.Hands(static_image_mode=True) as hands:\n",
    "    \n",
    "    image = cv2.imread(\"C:/Users/saniy/OneDrive/Desktop/AIML-Labs/hand.jpg\")\n",
    "    \n",
    "    results = hands.process(cv2.cvtColor(image, cv2.COLOR_BGR2RGB))\n",
    "    \n",
    "    if results.multi_hand_landmarks != None:\n",
    "        for handLandmarks in results.multi_hand_landmarks:\n",
    "            drawingModule.draw_landmarks(image, handLandmarks, handsModule.HAND_CONNECTIONS)\n",
    "        \n",
    "    \n",
    "        #BGR to RGB\n",
    "        #image = cv2.cvtColor(frame, cv2.COLOR_BGR2RGB)\n",
    "        \n",
    "        #set flag\n",
    "        #image.flags.writeable = False\n",
    "    \n",
    "        #Detections\n",
    "        #results = hands.process(image)\n",
    "    \n",
    "        #Set flag to true\n",
    "        #image.flags.writeable = True\n",
    "    \n",
    "        #RGB 2 BGR\n",
    "        #image = cv2.cvtColor(image, cv2.COLOR_RGB2BGR)\n",
    "\n",
    "        #Detections\n",
    "        #print(results)\n",
    "\n",
    "        #Rendering results\n",
    "        #if results.multi_hands_landmarks:\n",
    "            #for num, hand in enumerate(results.multi_)\n",
    "        #cv2.imshow('Hand Tracking',frame)\n",
    "        #if cv2.waitKey(10) & 0xFF == ord ('q'):\n",
    "         #   break\n",
    "            cv2.imshow('Test image', image)\n",
    "\n",
    "    cv2.waitKey(0)\n",
    "    cv2.destroyAllWindows()\n",
    "#cap.release()\n",
    "#cv2.destroyAllWindows()\n",
    "  "
   ]
  },
  {
   "cell_type": "code",
   "execution_count": 16,
   "metadata": {},
   "outputs": [
    {
     "name": "stdout",
     "output_type": "stream",
     "text": [
      "HandLandmark.WRIST\n",
      "(226, 661)\n",
      "x: 0.4133669\n",
      "y: 0.73485637\n",
      "z: -0.0003035987\n",
      "\n",
      "HandLandmark.THUMB_CMC\n",
      "(338, 604)\n",
      "x: 0.6172476\n",
      "y: 0.67118883\n",
      "z: -0.1370674\n",
      "\n",
      "HandLandmark.THUMB_MCP\n",
      "(414, 489)\n",
      "x: 0.75704324\n",
      "y: 0.5435578\n",
      "z: -0.19265449\n",
      "\n",
      "HandLandmark.THUMB_DIP\n",
      "(451, 379)\n",
      "x: 0.82409763\n",
      "y: 0.4218623\n",
      "z: -0.24389164\n",
      "\n",
      "HandLandmark.THUMB_TIP\n",
      "(493, 300)\n",
      "x: 0.9007776\n",
      "y: 0.33334965\n",
      "z: -0.29117268\n",
      "\n",
      "HandLandmark.INDEX_FINGER_MCP\n",
      "(313, 343)\n",
      "x: 0.572157\n",
      "y: 0.38173395\n",
      "z: -0.076384634\n",
      "\n",
      "HandLandmark.INDEX_FINGER_PIP\n",
      "(317, 207)\n",
      "x: 0.58027947\n",
      "y: 0.23064281\n",
      "z: -0.13393122\n",
      "\n",
      "HandLandmark.INDEX_FINGER_DIP\n",
      "(314, 130)\n",
      "x: 0.57433677\n",
      "y: 0.14477189\n",
      "z: -0.18361366\n",
      "\n",
      "HandLandmark.INDEX_FINGER_TIP\n",
      "(307, 63)\n",
      "x: 0.5606016\n",
      "y: 0.070305645\n",
      "z: -0.23757528\n",
      "\n",
      "HandLandmark.MIDDLE_FINGER_MCP\n",
      "(238, 340)\n",
      "x: 0.43523145\n",
      "y: 0.37846768\n",
      "z: -0.068575054\n",
      "\n",
      "HandLandmark.MIDDLE_FINGER_PIP\n",
      "(230, 195)\n",
      "x: 0.42014563\n",
      "y: 0.21756433\n",
      "z: -0.11569527\n",
      "\n",
      "HandLandmark.MIDDLE_FINGER_DIP\n",
      "(223, 112)\n",
      "x: 0.40858716\n",
      "y: 0.12488866\n",
      "z: -0.18211558\n",
      "\n",
      "HandLandmark.MIDDLE_FINGER_TIP\n",
      "(212, 42)\n",
      "x: 0.38709033\n",
      "y: 0.047402322\n",
      "z: -0.24134675\n",
      "\n",
      "HandLandmark.RING_FINGER_MCP\n",
      "(170, 365)\n",
      "x: 0.31172675\n",
      "y: 0.40638876\n",
      "z: -0.08588427\n",
      "\n",
      "HandLandmark.RING_FINGER_PIP\n",
      "(153, 234)\n",
      "x: 0.28096777\n",
      "y: 0.26075327\n",
      "z: -0.13545306\n",
      "\n",
      "HandLandmark.RING_FINGER_DIP\n",
      "(148, 158)\n",
      "x: 0.27025217\n",
      "y: 0.17564544\n",
      "z: -0.2054288\n",
      "\n",
      "HandLandmark.RING_FINGER_TIP\n",
      "(139, 90)\n",
      "x: 0.2544126\n",
      "y: 0.10105848\n",
      "z: -0.27151272\n",
      "\n",
      "HandLandmark.PINKY_MCP\n",
      "(106, 416)\n",
      "x: 0.19442755\n",
      "y: 0.46222413\n",
      "z: -0.114896856\n",
      "\n",
      "HandLandmark.PINKY_PIP\n",
      "(74, 322)\n",
      "x: 0.1355679\n",
      "y: 0.35789207\n",
      "z: -0.18412547\n",
      "\n",
      "HandLandmark.PINKY_DIP\n",
      "(59, 265)\n",
      "x: 0.10936546\n",
      "y: 0.29471084\n",
      "z: -0.25307912\n",
      "\n",
      "HandLandmark.PINKY_TIP\n",
      "(45, 210)\n",
      "x: 0.08344346\n",
      "y: 0.23431152\n",
      "z: -0.32089275\n",
      "\n"
     ]
    }
   ],
   "source": [
    "#cap = cv2.VideoCapture(0)\n",
    "\n",
    "# Check if the webcam is opened correctly\n",
    "#if not cap.isOpened():\n",
    "    #raise IOError(\"Cannot open webcam\")\n",
    "\n",
    "with handsModule.Hands(static_image_mode=True) as hands:\n",
    "    \n",
    "    image = cv2.imread(\"C:/Users/saniy/OneDrive/Desktop/AIML-Labs/hand.jpg\")\n",
    "    \n",
    "    results = hands.process(cv2.cvtColor(image, cv2.COLOR_BGR2RGB))\n",
    "    imageHeight, imageWidth, _ = image.shape\n",
    "    \n",
    "    if results.multi_hand_landmarks != None:\n",
    "        for handLandmarks in results.multi_hand_landmarks:\n",
    "            for point in handsModule.HandLandmark:\n",
    "                normalizedLandmark = handLandmarks.landmark[point]\n",
    "                pixelCoordinatesLandmark = drawingModule._normalized_to_pixel_coordinates(normalizedLandmark.x, normalizedLandmark.y, imageWidth, imageHeight)\n",
    "        \n",
    "                print(point)\n",
    "                print(pixelCoordinatesLandmark)\n",
    "                print(normalizedLandmark)\n",
    "       "
   ]
  }
 ],
 "metadata": {
  "kernelspec": {
   "display_name": "Python 3",
   "language": "python",
   "name": "python3"
  },
  "language_info": {
   "codemirror_mode": {
    "name": "ipython",
    "version": 3
   },
   "file_extension": ".py",
   "mimetype": "text/x-python",
   "name": "python",
   "nbconvert_exporter": "python",
   "pygments_lexer": "ipython3",
   "version": "3.8.3"
  }
 },
 "nbformat": 4,
 "nbformat_minor": 5
}
